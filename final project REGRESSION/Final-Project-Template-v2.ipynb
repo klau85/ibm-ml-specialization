{
 "cells": [
  {
   "cell_type": "markdown",
   "id": "7917a707-0287-4d5d-864d-5e067f95d6ce",
   "metadata": {},
   "source": [
    "<p style=\"text-align:center\">\n",
    "    <a href=\"https://skills.network/?utm_medium=Exinfluencer&utm_source=Exinfluencer&utm_content=000026UJ&utm_term=10006555&utm_id=NA-SkillsNetwork-Channel-SkillsNetworkCoursesIBMDeveloperSkillsNetworkML0101ENSkillsNetwork20718538-2022-01-01\" target=\"_blank\">\n",
    "    <img src=\"https://cf-courses-data.s3.us.cloud-object-storage.appdomain.cloud/assets/logos/SN_web_lightmode.png\" width=\"200\" alt=\"Skills Network Logo\">\n",
    "    </a>\n",
    "</p>\n",
    "\n",
    "<h1 align=\"center\"><font size=\"5\">Supervised Machine Learning: Regression - Final Assignment</font></h1>\n"
   ]
  },
  {
   "cell_type": "markdown",
   "id": "7a8ff34a-ca99-41a9-9655-a7579ee28775",
   "metadata": {},
   "source": [
    "## Instructions:\n",
    "\n",
    "In this Assignment, you will demonstrate the data regression skills you have learned by completing this course. You are expected to leverage a wide variety of tools, but also this report should focus on present findings, insights, and next steps. You may include some visuals from your code output, but this report is intended as a summary of your findings, not as a code review. \n",
    "\n",
    "The grading will center around 5 main points:\n",
    "\n",
    "1. Does the report include a section describing the data?\n",
    "2. Does the report include a paragraph detailing the main objective(s) of this analysis? \n",
    "3. Does the report include a section with variations of linear regression models and specifies which one is the model that best suits the main objective(s) of this analysis.\n",
    "4. Does the report include a clear and well-presented section with key findings related to the main objective(s) of the analysis?\n",
    "5. Does the report highlight possible flaws in the model and a plan of action to revisit this analysis with additional data or different predictive modeling techniques? \n",
    "\n",
    "\n"
   ]
  },
  {
   "cell_type": "code",
   "execution_count": null,
   "id": "516c374e-86b0-4755-a3fc-a4598d04a2b7",
   "metadata": {},
   "outputs": [],
   "source": [
    "# Install the required libraries\n",
    "# !pip install -U scikit-learn\n",
    "# !pip install pandas\n",
    "# !pip install numpy\n",
    "# !pip install seaborn\n",
    "# !pip install matplotlib"
   ]
  },
  {
   "cell_type": "markdown",
   "id": "134c9045-0373-4723-883d-bc02c51b236a",
   "metadata": {},
   "source": [
    "## Import the required libraries\n"
   ]
  },
  {
   "cell_type": "code",
   "execution_count": null,
   "id": "4ae8830e-64f5-4155-a96d-12706f5e3332",
   "metadata": {},
   "outputs": [],
   "source": [
    "import pandas as pd\n"
   ]
  },
  {
   "cell_type": "markdown",
   "id": "aa39cd1c-c5aa-4057-8f86-4281a7d921ee",
   "metadata": {},
   "source": [
    "## Importing the Dataset\n"
   ]
  },
  {
   "cell_type": "markdown",
   "id": "d0af3dbc-f38c-4290-b556-2c574aba0405",
   "metadata": {},
   "source": [
    "Before you begin, you will need to choose a data set that you feel passionate about. You can brainstorm with your peers about great public data sets using the discussion board in this module.\n"
   ]
  },
  {
   "cell_type": "markdown",
   "id": "c6a7346d-0ab9-4352-a69b-ebaf6aa4ac41",
   "metadata": {},
   "source": [
    "Read your chosen dataset into pandas dataframe:\n"
   ]
  },
  {
   "cell_type": "code",
   "execution_count": null,
   "id": "ccf35328-f6b0-4ca3-ba82-a95d7e0d706a",
   "metadata": {},
   "outputs": [],
   "source": [
    "#data = pd.read_csv('')\n",
    "#data.head()"
   ]
  },
  {
   "cell_type": "markdown",
   "id": "9e67a342-6c9c-4d1c-9fda-8c2380e570e4",
   "metadata": {},
   "source": [
    "Once you have selected a data set, you will produce the deliverables listed below and submit them to one of your peers for review. Treat this exercise as an opportunity to produce analysis that are ready to highlight your analytical skills for a senior audience, for example, the Chief Data Officer, or the Head of Analytics at your company.\n",
    "Sections required in your report:\n",
    "\n",
    "*   Main objective of the analysis that specifies whether your model will be focused on prediction or interpretation.\n",
    "*   Brief description of the data set you chose and a summary of its attributes.\n",
    "*   Brief summary of data exploration and actions taken for data cleaning and feature engineering.\n",
    "*   Summary of training at least three linear regression models which should be variations that cover using a simple  linear regression as a baseline, adding polynomial effects, and using a regularization regression. Preferably, all use the same training and test splits, or the same cross-validation method.\n",
    "*  A paragraph explaining which of your regressions you recommend as a final model that best fits your needs in terms of accuracy and explainability.\n",
    "*  Summary Key Findings and Insights, which walks your reader through the main drivers of your model and insights from your data derived from your linear regression model.\n",
    "*  Suggestions for next steps in analyzing this data, which may include suggesting revisiting this model adding specific data features to achieve a better explanation or a better prediction.\n"
   ]
  },
  {
   "cell_type": "markdown",
   "id": "a2e1ee90-8963-428b-bfa9-f9691135df84",
   "metadata": {},
   "source": [
    "# 1. About the Data\n"
   ]
  },
  {
   "cell_type": "code",
   "execution_count": null,
   "id": "e8ead6fc-8a60-438e-8cc7-17ee519a99b9",
   "metadata": {},
   "outputs": [],
   "source": []
  },
  {
   "cell_type": "code",
   "execution_count": null,
   "id": "5bfa0821-6041-42a8-ad7a-04aad56d308f",
   "metadata": {},
   "outputs": [],
   "source": []
  },
  {
   "cell_type": "code",
   "execution_count": null,
   "id": "ba40c6cc-34fc-4737-b464-fc8991c87d1a",
   "metadata": {},
   "outputs": [],
   "source": []
  },
  {
   "cell_type": "markdown",
   "id": "469831cc-4abd-4727-a4cc-4b662152fe96",
   "metadata": {},
   "source": [
    "# 2. Objectives\n"
   ]
  },
  {
   "cell_type": "code",
   "execution_count": null,
   "id": "62bcff5f-fdae-46da-984c-b0fc7326a868",
   "metadata": {},
   "outputs": [],
   "source": []
  },
  {
   "cell_type": "code",
   "execution_count": null,
   "id": "5ce7d7fb-33f1-4883-bd1f-8eedf2f43d6b",
   "metadata": {},
   "outputs": [],
   "source": []
  },
  {
   "cell_type": "markdown",
   "id": "c7cc0326-09fb-4f5c-8727-0f79e3264f87",
   "metadata": {},
   "source": [
    "# 3. Linear Regression Models\n"
   ]
  },
  {
   "cell_type": "code",
   "execution_count": null,
   "id": "2b409291-10df-4d6d-993c-b7fa0a9c587e",
   "metadata": {},
   "outputs": [],
   "source": []
  },
  {
   "cell_type": "code",
   "execution_count": null,
   "id": "b1f74d2d-e2f0-4316-b0fe-e2c55d3a17a8",
   "metadata": {},
   "outputs": [],
   "source": []
  },
  {
   "cell_type": "code",
   "execution_count": null,
   "id": "d6c05734-2142-439c-835d-cc18c7dd158d",
   "metadata": {},
   "outputs": [],
   "source": []
  },
  {
   "cell_type": "code",
   "execution_count": null,
   "id": "080ce2a4-41e5-41da-8595-b4ba36a362a7",
   "metadata": {},
   "outputs": [],
   "source": []
  },
  {
   "cell_type": "code",
   "execution_count": null,
   "id": "55d648a8-5b0e-4dd4-a213-0002881e7c75",
   "metadata": {},
   "outputs": [],
   "source": []
  },
  {
   "cell_type": "code",
   "execution_count": null,
   "id": "74fb29ad-a366-4678-ba45-4fd4d268b83d",
   "metadata": {},
   "outputs": [],
   "source": []
  },
  {
   "cell_type": "code",
   "execution_count": null,
   "id": "2149feb9-8708-4cc0-8894-90acba85707d",
   "metadata": {},
   "outputs": [],
   "source": []
  },
  {
   "cell_type": "code",
   "execution_count": null,
   "id": "9446a2d9-c5f4-4b61-8c04-21eea999bfc8",
   "metadata": {},
   "outputs": [],
   "source": []
  },
  {
   "cell_type": "code",
   "execution_count": null,
   "id": "51ad0aa3-6d01-44fa-9056-2c757b310836",
   "metadata": {},
   "outputs": [],
   "source": []
  },
  {
   "cell_type": "code",
   "execution_count": null,
   "id": "7813771e-fa3f-42cb-b03f-9f3052ee719b",
   "metadata": {},
   "outputs": [],
   "source": []
  },
  {
   "cell_type": "code",
   "execution_count": null,
   "id": "8d86cf32-666a-41cb-bed3-0a03d196f9fc",
   "metadata": {},
   "outputs": [],
   "source": []
  },
  {
   "cell_type": "code",
   "execution_count": null,
   "id": "267f890d-7248-413d-b2e4-27ea88f9138a",
   "metadata": {},
   "outputs": [],
   "source": []
  },
  {
   "cell_type": "code",
   "execution_count": null,
   "id": "b498ce9b-083b-4510-899a-ce83f759439e",
   "metadata": {},
   "outputs": [],
   "source": []
  },
  {
   "cell_type": "markdown",
   "id": "99916712-f3e7-4936-8289-9babf6415306",
   "metadata": {},
   "source": [
    "# 4. Insights and key findings\n"
   ]
  },
  {
   "cell_type": "code",
   "execution_count": null,
   "id": "84f63a0e-e5f7-457f-90a1-82f552e4acc3",
   "metadata": {},
   "outputs": [],
   "source": []
  },
  {
   "cell_type": "code",
   "execution_count": null,
   "id": "c7171d78-b2cd-49a9-ab95-04382e94911d",
   "metadata": {},
   "outputs": [],
   "source": []
  },
  {
   "cell_type": "markdown",
   "id": "8305cac4-ac53-4448-b3e2-2a22702d70d7",
   "metadata": {},
   "source": [
    "# 5. Next Steps\n"
   ]
  },
  {
   "cell_type": "code",
   "execution_count": null,
   "id": "ecb42d56-a325-4b38-82b0-7456eb7c2c33",
   "metadata": {},
   "outputs": [],
   "source": []
  },
  {
   "cell_type": "code",
   "execution_count": null,
   "id": "36027dc3-20d4-4661-9ab7-d887eb32ad73",
   "metadata": {},
   "outputs": [],
   "source": []
  },
  {
   "cell_type": "markdown",
   "id": "e795fc77-dd35-486e-950e-9e7b5fe62e43",
   "metadata": {},
   "source": [
    "## <h3 align=\"center\"> © IBM Corporation 2020. All rights reserved. <h3/>\n"
   ]
  }
 ],
 "metadata": {
  "kernelspec": {
   "display_name": "Python 3 (ipykernel)",
   "language": "python",
   "name": "python3"
  },
  "language_info": {
   "codemirror_mode": {
    "name": "ipython",
    "version": 3
   },
   "file_extension": ".py",
   "mimetype": "text/x-python",
   "name": "python",
   "nbconvert_exporter": "python",
   "pygments_lexer": "ipython3",
   "version": "3.11.9"
  },
  "prev_pub_hash": "ecc74c8238c35f5dfa2a9a7b20110ae88a5ecc79b5a7defaa2490883e9c0f0e3"
 },
 "nbformat": 4,
 "nbformat_minor": 4
}
